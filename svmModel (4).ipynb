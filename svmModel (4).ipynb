{
 "cells": [
  {
   "cell_type": "markdown",
   "metadata": {},
   "source": [
    "## SVM Model for Predicting permeability on Kidron dataset\n",
    "\n",
    "##### (Dataset taken from - Prediction of the Corneal Permeability of Drug-Like Compounds Heidi Kidron & Kati-Sisko Vellonen & Eva M. del Amo & Anita Tissari & Arto Urtti )"
   ]
  },
  {
   "cell_type": "markdown",
   "metadata": {},
   "source": [
    "### 1. Importing libraries\n",
    "#### Pandas and numpy for data import and processing\n",
    "#### Matplotlib for visualisation"
   ]
  },
  {
   "cell_type": "code",
   "execution_count": 159,
   "metadata": {},
   "outputs": [
    {
     "name": "stdout",
     "output_type": "stream",
     "text": [
      "['bmh', 'classic', 'dark_background', 'fast', 'fivethirtyeight', 'ggplot', 'grayscale', 'seaborn-bright', 'seaborn-colorblind', 'seaborn-dark-palette', 'seaborn-dark', 'seaborn-darkgrid', 'seaborn-deep', 'seaborn-muted', 'seaborn-notebook', 'seaborn-paper', 'seaborn-pastel', 'seaborn-poster', 'seaborn-talk', 'seaborn-ticks', 'seaborn-white', 'seaborn-whitegrid', 'seaborn', 'Solarize_Light2', 'tableau-colorblind10', '_classic_test']\n"
     ]
    }
   ],
   "source": [
    "import pandas as pd\n",
    "import numpy as np\n",
    "import matplotlib.pyplot as plt\n",
    "import matplotlib.ticker as mtick\n",
    "import os\n",
    "print(plt.style.available)\n",
    "plt.style.use('seaborn-whitegrid')\n",
    "import seaborn as sns"
   ]
  },
  {
   "cell_type": "code",
   "execution_count": 157,
   "metadata": {},
   "outputs": [],
   "source": [
    "## Plotting config\n",
    "colourWheel =['#329932',\n",
    "            '#ff6961',\n",
    "            'b',\n",
    "            '#6a3d9a',\n",
    "            '#fb9a99',\n",
    "            '#e31a1c',\n",
    "            '#fdbf6f',\n",
    "            '#ff7f00',\n",
    "            '#cab2d6',\n",
    "            '#6a3d9a',\n",
    "            '#ffff99',\n",
    "            '#b15928',\n",
    "            '#67001f',\n",
    "            '#b2182b',\n",
    "            '#d6604d',\n",
    "            '#f4a582',\n",
    "            '#fddbc7',\n",
    "            '#f7f7f7',\n",
    "            '#d1e5f0',\n",
    "            '#92c5de',\n",
    "            '#4393c3',\n",
    "            '#2166ac',\n",
    "            '#053061']\n",
    "dashesStyles = [[3,1],\n",
    "            [1000,1],\n",
    "            [2,1,10,1],\n",
    "            [4, 1, 1, 1, 1, 1]]"
   ]
  },
  {
   "cell_type": "markdown",
   "metadata": {},
   "source": [
    "## 2. Importing dataset from csv file. "
   ]
  },
  {
   "cell_type": "code",
   "execution_count": 50,
   "metadata": {},
   "outputs": [
    {
     "data": {
      "text/html": [
       "<div>\n",
       "<style scoped>\n",
       "    .dataframe tbody tr th:only-of-type {\n",
       "        vertical-align: middle;\n",
       "    }\n",
       "\n",
       "    .dataframe tbody tr th {\n",
       "        vertical-align: top;\n",
       "    }\n",
       "\n",
       "    .dataframe thead th {\n",
       "        text-align: right;\n",
       "    }\n",
       "</style>\n",
       "<table border=\"1\" class=\"dataframe\">\n",
       "  <thead>\n",
       "    <tr style=\"text-align: right;\">\n",
       "      <th></th>\n",
       "      <th>Name</th>\n",
       "      <th>MW</th>\n",
       "      <th>MV</th>\n",
       "      <th>PSA</th>\n",
       "      <th>HBD</th>\n",
       "      <th>HBA</th>\n",
       "      <th>HBtot</th>\n",
       "      <th>logP</th>\n",
       "      <th>logD70</th>\n",
       "      <th>logD74</th>\n",
       "      <th>logD80</th>\n",
       "      <th>perm</th>\n",
       "      <th>Unnamed: 12</th>\n",
       "      <th>Unnamed: 13</th>\n",
       "      <th>Unnamed: 14</th>\n",
       "      <th>Unnamed: 15</th>\n",
       "    </tr>\n",
       "  </thead>\n",
       "  <tbody>\n",
       "    <tr>\n",
       "      <th>0</th>\n",
       "      <td>acetazolamideb,c</td>\n",
       "      <td>222.3</td>\n",
       "      <td>127.0</td>\n",
       "      <td>151.7</td>\n",
       "      <td>3.0</td>\n",
       "      <td>7.0</td>\n",
       "      <td>10.0</td>\n",
       "      <td>-0.26</td>\n",
       "      <td>-0.40</td>\n",
       "      <td>-0.55</td>\n",
       "      <td>-0.94</td>\n",
       "      <td>9.100000e-07</td>\n",
       "      <td>NaN</td>\n",
       "      <td>NaN</td>\n",
       "      <td>NaN</td>\n",
       "      <td>NaN</td>\n",
       "    </tr>\n",
       "    <tr>\n",
       "      <th>1</th>\n",
       "      <td>alprenololD</td>\n",
       "      <td>249.3</td>\n",
       "      <td>247.0</td>\n",
       "      <td>41.5</td>\n",
       "      <td>2.0</td>\n",
       "      <td>3.0</td>\n",
       "      <td>5.0</td>\n",
       "      <td>2.88</td>\n",
       "      <td>0.77</td>\n",
       "      <td>1.13</td>\n",
       "      <td>1.70</td>\n",
       "      <td>2.900000e-05</td>\n",
       "      <td>NaN</td>\n",
       "      <td>NaN</td>\n",
       "      <td>NaN</td>\n",
       "      <td>NaN</td>\n",
       "    </tr>\n",
       "    <tr>\n",
       "      <th>2</th>\n",
       "      <td>atenolole</td>\n",
       "      <td>266.3</td>\n",
       "      <td>237.0</td>\n",
       "      <td>84.6</td>\n",
       "      <td>4.0</td>\n",
       "      <td>5.0</td>\n",
       "      <td>9.0</td>\n",
       "      <td>0.10</td>\n",
       "      <td>-2.02</td>\n",
       "      <td>-1.65</td>\n",
       "      <td>-1.09</td>\n",
       "      <td>6.700000e-07</td>\n",
       "      <td>NaN</td>\n",
       "      <td>NaN</td>\n",
       "      <td>NaN</td>\n",
       "      <td>NaN</td>\n",
       "    </tr>\n",
       "    <tr>\n",
       "      <th>3</th>\n",
       "      <td>benzolamideb</td>\n",
       "      <td>320.4</td>\n",
       "      <td>183.0</td>\n",
       "      <td>177.1</td>\n",
       "      <td>3.0</td>\n",
       "      <td>8.0</td>\n",
       "      <td>11.0</td>\n",
       "      <td>0.20</td>\n",
       "      <td>-1.40</td>\n",
       "      <td>-1.70</td>\n",
       "      <td>-2.11</td>\n",
       "      <td>1.400000e-07</td>\n",
       "      <td>NaN</td>\n",
       "      <td>NaN</td>\n",
       "      <td>NaN</td>\n",
       "      <td>NaN</td>\n",
       "    </tr>\n",
       "    <tr>\n",
       "      <th>4</th>\n",
       "      <td>bevantolole</td>\n",
       "      <td>345.4</td>\n",
       "      <td>311.0</td>\n",
       "      <td>60.0</td>\n",
       "      <td>2.0</td>\n",
       "      <td>5.0</td>\n",
       "      <td>7.0</td>\n",
       "      <td>3.38</td>\n",
       "      <td>1.71</td>\n",
       "      <td>2.09</td>\n",
       "      <td>2.62</td>\n",
       "      <td>5.400000e-05</td>\n",
       "      <td>NaN</td>\n",
       "      <td>NaN</td>\n",
       "      <td>NaN</td>\n",
       "      <td>NaN</td>\n",
       "    </tr>\n",
       "  </tbody>\n",
       "</table>\n",
       "</div>"
      ],
      "text/plain": [
       "               Name     MW     MV    PSA  HBD  HBA  HBtot  logP  logD70  \\\n",
       "0  acetazolamideb,c  222.3  127.0  151.7  3.0  7.0   10.0 -0.26   -0.40   \n",
       "1       alprenololD  249.3  247.0   41.5  2.0  3.0    5.0  2.88    0.77   \n",
       "2         atenolole  266.3  237.0   84.6  4.0  5.0    9.0  0.10   -2.02   \n",
       "3      benzolamideb  320.4  183.0  177.1  3.0  8.0   11.0  0.20   -1.40   \n",
       "4       bevantolole  345.4  311.0   60.0  2.0  5.0    7.0  3.38    1.71   \n",
       "\n",
       "   logD74  logD80          perm Unnamed: 12  Unnamed: 13  Unnamed: 14  \\\n",
       "0   -0.55   -0.94  9.100000e-07         NaN          NaN          NaN   \n",
       "1    1.13    1.70  2.900000e-05         NaN          NaN          NaN   \n",
       "2   -1.65   -1.09  6.700000e-07         NaN          NaN          NaN   \n",
       "3   -1.70   -2.11  1.400000e-07         NaN          NaN          NaN   \n",
       "4    2.09    2.62  5.400000e-05         NaN          NaN          NaN   \n",
       "\n",
       "  Unnamed: 15  \n",
       "0         NaN  \n",
       "1         NaN  \n",
       "2         NaN  \n",
       "3         NaN  \n",
       "4         NaN  "
      ]
     },
     "execution_count": 50,
     "metadata": {},
     "output_type": "execute_result"
    }
   ],
   "source": [
    "dataset = pd.read_csv(\"D:\\Google Drive\\Drug Discovery\\Dataset\\Kidron_dataset.csv\")\n",
    "dataset.head()"
   ]
  },
  {
   "cell_type": "code",
   "execution_count": 51,
   "metadata": {},
   "outputs": [
    {
     "data": {
      "text/html": [
       "<div>\n",
       "<style scoped>\n",
       "    .dataframe tbody tr th:only-of-type {\n",
       "        vertical-align: middle;\n",
       "    }\n",
       "\n",
       "    .dataframe tbody tr th {\n",
       "        vertical-align: top;\n",
       "    }\n",
       "\n",
       "    .dataframe thead th {\n",
       "        text-align: right;\n",
       "    }\n",
       "</style>\n",
       "<table border=\"1\" class=\"dataframe\">\n",
       "  <thead>\n",
       "    <tr style=\"text-align: right;\">\n",
       "      <th></th>\n",
       "      <th>Name</th>\n",
       "      <th>MW</th>\n",
       "      <th>MV</th>\n",
       "      <th>PSA</th>\n",
       "      <th>HBD</th>\n",
       "      <th>HBA</th>\n",
       "      <th>HBtot</th>\n",
       "      <th>logP</th>\n",
       "      <th>logD70</th>\n",
       "      <th>logD74</th>\n",
       "      <th>logD80</th>\n",
       "      <th>perm</th>\n",
       "    </tr>\n",
       "  </thead>\n",
       "  <tbody>\n",
       "    <tr>\n",
       "      <th>0</th>\n",
       "      <td>acetazolamideb,c</td>\n",
       "      <td>222.3</td>\n",
       "      <td>127.0</td>\n",
       "      <td>151.7</td>\n",
       "      <td>3.0</td>\n",
       "      <td>7.0</td>\n",
       "      <td>10.0</td>\n",
       "      <td>-0.26</td>\n",
       "      <td>-0.40</td>\n",
       "      <td>-0.55</td>\n",
       "      <td>-0.94</td>\n",
       "      <td>9.100000e-07</td>\n",
       "    </tr>\n",
       "    <tr>\n",
       "      <th>1</th>\n",
       "      <td>alprenololD</td>\n",
       "      <td>249.3</td>\n",
       "      <td>247.0</td>\n",
       "      <td>41.5</td>\n",
       "      <td>2.0</td>\n",
       "      <td>3.0</td>\n",
       "      <td>5.0</td>\n",
       "      <td>2.88</td>\n",
       "      <td>0.77</td>\n",
       "      <td>1.13</td>\n",
       "      <td>1.70</td>\n",
       "      <td>2.900000e-05</td>\n",
       "    </tr>\n",
       "    <tr>\n",
       "      <th>2</th>\n",
       "      <td>atenolole</td>\n",
       "      <td>266.3</td>\n",
       "      <td>237.0</td>\n",
       "      <td>84.6</td>\n",
       "      <td>4.0</td>\n",
       "      <td>5.0</td>\n",
       "      <td>9.0</td>\n",
       "      <td>0.10</td>\n",
       "      <td>-2.02</td>\n",
       "      <td>-1.65</td>\n",
       "      <td>-1.09</td>\n",
       "      <td>6.700000e-07</td>\n",
       "    </tr>\n",
       "    <tr>\n",
       "      <th>3</th>\n",
       "      <td>benzolamideb</td>\n",
       "      <td>320.4</td>\n",
       "      <td>183.0</td>\n",
       "      <td>177.1</td>\n",
       "      <td>3.0</td>\n",
       "      <td>8.0</td>\n",
       "      <td>11.0</td>\n",
       "      <td>0.20</td>\n",
       "      <td>-1.40</td>\n",
       "      <td>-1.70</td>\n",
       "      <td>-2.11</td>\n",
       "      <td>1.400000e-07</td>\n",
       "    </tr>\n",
       "    <tr>\n",
       "      <th>4</th>\n",
       "      <td>bevantolole</td>\n",
       "      <td>345.4</td>\n",
       "      <td>311.0</td>\n",
       "      <td>60.0</td>\n",
       "      <td>2.0</td>\n",
       "      <td>5.0</td>\n",
       "      <td>7.0</td>\n",
       "      <td>3.38</td>\n",
       "      <td>1.71</td>\n",
       "      <td>2.09</td>\n",
       "      <td>2.62</td>\n",
       "      <td>5.400000e-05</td>\n",
       "    </tr>\n",
       "  </tbody>\n",
       "</table>\n",
       "</div>"
      ],
      "text/plain": [
       "               Name     MW     MV    PSA  HBD  HBA  HBtot  logP  logD70  \\\n",
       "0  acetazolamideb,c  222.3  127.0  151.7  3.0  7.0   10.0 -0.26   -0.40   \n",
       "1       alprenololD  249.3  247.0   41.5  2.0  3.0    5.0  2.88    0.77   \n",
       "2         atenolole  266.3  237.0   84.6  4.0  5.0    9.0  0.10   -2.02   \n",
       "3      benzolamideb  320.4  183.0  177.1  3.0  8.0   11.0  0.20   -1.40   \n",
       "4       bevantolole  345.4  311.0   60.0  2.0  5.0    7.0  3.38    1.71   \n",
       "\n",
       "   logD74  logD80          perm  \n",
       "0   -0.55   -0.94  9.100000e-07  \n",
       "1    1.13    1.70  2.900000e-05  \n",
       "2   -1.65   -1.09  6.700000e-07  \n",
       "3   -1.70   -2.11  1.400000e-07  \n",
       "4    2.09    2.62  5.400000e-05  "
      ]
     },
     "execution_count": 51,
     "metadata": {},
     "output_type": "execute_result"
    }
   ],
   "source": [
    "dataset = dataset.iloc[:,:12]\n",
    "dataset = dataset.dropna()\n",
    "dataset.head()"
   ]
  },
  {
   "cell_type": "code",
   "execution_count": 52,
   "metadata": {},
   "outputs": [
    {
     "data": {
      "text/plain": [
       "7.900000000000001e-05"
      ]
     },
     "execution_count": 52,
     "metadata": {},
     "output_type": "execute_result"
    }
   ],
   "source": [
    "max(dataset['perm'])"
   ]
  },
  {
   "cell_type": "code",
   "execution_count": 53,
   "metadata": {},
   "outputs": [
    {
     "data": {
      "image/png": "[encoded data removed]",
      "text/plain": [
       "<Figure size 432x288 with 2 Axes>"
      ]
     },
     "metadata": {},
     "output_type": "display_data"
    }
   ],
   "source": [
    "# volume = (15 * price_data.volume[:-2] / price_data.volume[0])**2\n",
    "color =  dataset['HBtot']\n",
    "\n",
    "fig, ax = plt.subplots()\n",
    "res = ax.scatter(dataset['logP'], dataset['perm'],  s=dataset['PSA']*1.5, c=color, alpha=0.9, edgecolors='black', cmap='viridis')\n",
    "\n",
    "ax.set_xlabel('logP', fontsize=15)\n",
    "ax.set_ylabel('permeability (cm/s)', fontsize=15)\n",
    "ax.set_title('logP vs Permeability - positive dependency')\n",
    "ax.set_ylim(-0.1e-04, 9.0e-05)\n",
    "fig.colorbar(res, label='HBtot')\n",
    "\n",
    "for val in [50, 100, 150,200]:\n",
    "    plt.scatter([], [], c='black', alpha=0.5, s=val/1.5,\n",
    "                label=str(val))\n",
    "plt.legend(scatterpoints=1, frameon=False, labelspacing=1, title='PSA', loc='upper left')\n",
    "\n",
    "#ax.grid(True)\n",
    "fig.tight_layout()\n",
    "#plt.savefig(\"trial.pdf\", dpi=1200)\n",
    "plt.show()"
   ]
  },
  {
   "cell_type": "markdown",
   "metadata": {},
   "source": [
    "### Shuffling the dataset"
   ]
  },
  {
   "cell_type": "code",
   "execution_count": 93,
   "metadata": {},
   "outputs": [],
   "source": [
    "from sklearn.utils import shuffle\n",
    "dataset = shuffle(dataset)"
   ]
  },
  {
   "cell_type": "code",
   "execution_count": 94,
   "metadata": {},
   "outputs": [],
   "source": [
    "df = dataset.iloc[:,1:]\n",
    "del df['logD70']\n",
    "del df['logD74']\n",
    "del df['logD80']"
   ]
  },
  {
   "cell_type": "markdown",
   "metadata": {},
   "source": [
    "## 3. Scaling the dataset"
   ]
  },
  {
   "cell_type": "code",
   "execution_count": 95,
   "metadata": {},
   "outputs": [],
   "source": [
    "from sklearn.preprocessing import StandardScaler"
   ]
  },
  {
   "cell_type": "code",
   "execution_count": 96,
   "metadata": {},
   "outputs": [
    {
     "data": {
      "text/html": [
       "<div>\n",
       "<style scoped>\n",
       "    .dataframe tbody tr th:only-of-type {\n",
       "        vertical-align: middle;\n",
       "    }\n",
       "\n",
       "    .dataframe tbody tr th {\n",
       "        vertical-align: top;\n",
       "    }\n",
       "\n",
       "    .dataframe thead th {\n",
       "        text-align: right;\n",
       "    }\n",
       "</style>\n",
       "<table border=\"1\" class=\"dataframe\">\n",
       "  <thead>\n",
       "    <tr style=\"text-align: right;\">\n",
       "      <th></th>\n",
       "      <th>MW</th>\n",
       "      <th>MV</th>\n",
       "      <th>PSA</th>\n",
       "      <th>HBD</th>\n",
       "      <th>HBA</th>\n",
       "      <th>HBtot</th>\n",
       "      <th>logP</th>\n",
       "      <th>perm</th>\n",
       "    </tr>\n",
       "  </thead>\n",
       "  <tbody>\n",
       "    <tr>\n",
       "      <th>28</th>\n",
       "      <td>0.056416</td>\n",
       "      <td>1.533281</td>\n",
       "      <td>-0.725768</td>\n",
       "      <td>-0.157329</td>\n",
       "      <td>-1.401139</td>\n",
       "      <td>-1.261580</td>\n",
       "      <td>2.065938</td>\n",
       "      <td>1.125946</td>\n",
       "    </tr>\n",
       "    <tr>\n",
       "      <th>44</th>\n",
       "      <td>0.729992</td>\n",
       "      <td>-0.783148</td>\n",
       "      <td>0.854712</td>\n",
       "      <td>0.928242</td>\n",
       "      <td>1.620067</td>\n",
       "      <td>1.810739</td>\n",
       "      <td>0.171590</td>\n",
       "      <td>-0.870952</td>\n",
       "    </tr>\n",
       "    <tr>\n",
       "      <th>0</th>\n",
       "      <td>-1.168427</td>\n",
       "      <td>-1.404628</td>\n",
       "      <td>0.534499</td>\n",
       "      <td>0.928242</td>\n",
       "      <td>1.015826</td>\n",
       "      <td>1.298686</td>\n",
       "      <td>-1.614748</td>\n",
       "      <td>-0.845906</td>\n",
       "    </tr>\n",
       "    <tr>\n",
       "      <th>54</th>\n",
       "      <td>0.568688</td>\n",
       "      <td>0.553978</td>\n",
       "      <td>-0.219145</td>\n",
       "      <td>-0.157329</td>\n",
       "      <td>1.015826</td>\n",
       "      <td>0.786632</td>\n",
       "      <td>-0.393392</td>\n",
       "      <td>-0.810575</td>\n",
       "    </tr>\n",
       "    <tr>\n",
       "      <th>25</th>\n",
       "      <td>-0.369000</td>\n",
       "      <td>1.081295</td>\n",
       "      <td>-0.620555</td>\n",
       "      <td>-0.157329</td>\n",
       "      <td>-0.796898</td>\n",
       "      <td>-0.749527</td>\n",
       "      <td>0.088504</td>\n",
       "      <td>0.231479</td>\n",
       "    </tr>\n",
       "  </tbody>\n",
       "</table>\n",
       "</div>"
      ],
      "text/plain": [
       "          MW        MV       PSA       HBD       HBA     HBtot      logP  \\\n",
       "28  0.056416  1.533281 -0.725768 -0.157329 -1.401139 -1.261580  2.065938   \n",
       "44  0.729992 -0.783148  0.854712  0.928242  1.620067  1.810739  0.171590   \n",
       "0  -1.168427 -1.404628  0.534499  0.928242  1.015826  1.298686 -1.614748   \n",
       "54  0.568688  0.553978 -0.219145 -0.157329  1.015826  0.786632 -0.393392   \n",
       "25 -0.369000  1.081295 -0.620555 -0.157329 -0.796898 -0.749527  0.088504   \n",
       "\n",
       "        perm  \n",
       "28  1.125946  \n",
       "44 -0.870952  \n",
       "0  -0.845906  \n",
       "54 -0.810575  \n",
       "25  0.231479  "
      ]
     },
     "execution_count": 96,
     "metadata": {},
     "output_type": "execute_result"
    }
   ],
   "source": [
    "scaler = StandardScaler()\n",
    "df[['MW','MV', 'PSA','HBD', 'HBA', 'HBtot', 'logP', 'perm']] = scaler.fit_transform(df[['MW','MV', 'PSA','HBD', 'HBA', 'HBtot', 'logP','perm']])\n",
    "df.head()"
   ]
  },
  {
   "cell_type": "code",
   "execution_count": 97,
   "metadata": {
    "scrolled": false
   },
   "outputs": [
    {
     "data": {
      "text/html": [
       "<div>\n",
       "<style scoped>\n",
       "    .dataframe tbody tr th:only-of-type {\n",
       "        vertical-align: middle;\n",
       "    }\n",
       "\n",
       "    .dataframe tbody tr th {\n",
       "        vertical-align: top;\n",
       "    }\n",
       "\n",
       "    .dataframe thead th {\n",
       "        text-align: right;\n",
       "    }\n",
       "</style>\n",
       "<table border=\"1\" class=\"dataframe\">\n",
       "  <thead>\n",
       "    <tr style=\"text-align: right;\">\n",
       "      <th></th>\n",
       "      <th>MW</th>\n",
       "      <th>Volume</th>\n",
       "      <th>SA</th>\n",
       "      <th>Hacc</th>\n",
       "      <th>Hdonor</th>\n",
       "      <th>Hbtot</th>\n",
       "      <th>logP</th>\n",
       "    </tr>\n",
       "  </thead>\n",
       "  <tbody>\n",
       "    <tr>\n",
       "      <th>0</th>\n",
       "      <td>-0.035341</td>\n",
       "      <td>-0.276177</td>\n",
       "      <td>0.103264</td>\n",
       "      <td>1.785550</td>\n",
       "      <td>1.883683</td>\n",
       "      <td>1.961916</td>\n",
       "      <td>-2.258204</td>\n",
       "    </tr>\n",
       "    <tr>\n",
       "      <th>1</th>\n",
       "      <td>-1.254030</td>\n",
       "      <td>-1.382759</td>\n",
       "      <td>-1.534707</td>\n",
       "      <td>-1.074028</td>\n",
       "      <td>-0.267987</td>\n",
       "      <td>-0.712268</td>\n",
       "      <td>0.732529</td>\n",
       "    </tr>\n",
       "    <tr>\n",
       "      <th>2</th>\n",
       "      <td>-1.529459</td>\n",
       "      <td>-1.445954</td>\n",
       "      <td>-1.456824</td>\n",
       "      <td>-1.087516</td>\n",
       "      <td>-0.153738</td>\n",
       "      <td>-0.657606</td>\n",
       "      <td>0.368668</td>\n",
       "    </tr>\n",
       "    <tr>\n",
       "      <th>3</th>\n",
       "      <td>1.357351</td>\n",
       "      <td>1.227662</td>\n",
       "      <td>1.096269</td>\n",
       "      <td>-0.300964</td>\n",
       "      <td>-1.635188</td>\n",
       "      <td>-1.043319</td>\n",
       "      <td>0.212649</td>\n",
       "    </tr>\n",
       "    <tr>\n",
       "      <th>4</th>\n",
       "      <td>0.172473</td>\n",
       "      <td>0.797888</td>\n",
       "      <td>0.991614</td>\n",
       "      <td>-0.655460</td>\n",
       "      <td>-0.609334</td>\n",
       "      <td>-0.675775</td>\n",
       "      <td>1.018770</td>\n",
       "    </tr>\n",
       "  </tbody>\n",
       "</table>\n",
       "</div>"
      ],
      "text/plain": [
       "         MW    Volume        SA      Hacc    Hdonor     Hbtot      logP\n",
       "0 -0.035341 -0.276177  0.103264  1.785550  1.883683  1.961916 -2.258204\n",
       "1 -1.254030 -1.382759 -1.534707 -1.074028 -0.267987 -0.712268  0.732529\n",
       "2 -1.529459 -1.445954 -1.456824 -1.087516 -0.153738 -0.657606  0.368668\n",
       "3  1.357351  1.227662  1.096269 -0.300964 -1.635188 -1.043319  0.212649\n",
       "4  0.172473  0.797888  0.991614 -0.655460 -0.609334 -0.675775  1.018770"
      ]
     },
     "execution_count": 97,
     "metadata": {},
     "output_type": "execute_result"
    }
   ],
   "source": [
    "cnsDf = pd.read_csv(\"D:\\Google Drive\\Drug Discovery\\Dataset\\CNS_test_drugs.csv\")\n",
    "scaler1 = StandardScaler()\n",
    "cns = cnsDf.iloc[:,2:9]\n",
    "cns[['MW', 'Volume', 'SA', 'logP','Hacc', 'Hdonor', 'Hbtot']] = scaler1.fit_transform(cns[['MW', 'Volume', 'SA', 'logP','Hacc', 'Hdonor', 'Hbtot']])\n",
    "cns.head()"
   ]
  },
  {
   "cell_type": "code",
   "execution_count": 98,
   "metadata": {},
   "outputs": [],
   "source": [
    "cnsTest = cns.to_numpy()"
   ]
  },
  {
   "cell_type": "code",
   "execution_count": 99,
   "metadata": {},
   "outputs": [],
   "source": [
    "dfInverse = df.copy()\n",
    "dfPredInverse = df.copy()\n"
   ]
  },
  {
   "cell_type": "code",
   "execution_count": 100,
   "metadata": {},
   "outputs": [],
   "source": [
    "df = df.to_numpy()"
   ]
  },
  {
   "cell_type": "code",
   "execution_count": 101,
   "metadata": {},
   "outputs": [],
   "source": [
    "X = df[:,:-1]\n",
    "Y = df[:,-1:]"
   ]
  },
  {
   "cell_type": "markdown",
   "metadata": {},
   "source": [
    "## 4. Splitting the dataset into training and testing datasets\n",
    "#### The dataset is 15% of the complete dataset and the rest 85% is the train data\n",
    "#### Dataset is also split into X (parameters) and Y (target value - permeability ) for the train and test data"
   ]
  },
  {
   "cell_type": "code",
   "execution_count": 102,
   "metadata": {},
   "outputs": [],
   "source": [
    "from sklearn.model_selection import train_test_split"
   ]
  },
  {
   "cell_type": "code",
   "execution_count": 103,
   "metadata": {},
   "outputs": [],
   "source": [
    "X_train, X_test, Y_train, Y_test = train_test_split(X, Y, test_size = 0.15, random_state = 0)"
   ]
  },
  {
   "cell_type": "markdown",
   "metadata": {},
   "source": [
    "#### Training data shape - 58 compounds, each with 7 parameters and correspinding permeability"
   ]
  },
  {
   "cell_type": "code",
   "execution_count": 104,
   "metadata": {},
   "outputs": [
    {
     "data": {
      "text/plain": [
       "(58, 7)"
      ]
     },
     "execution_count": 104,
     "metadata": {},
     "output_type": "execute_result"
    }
   ],
   "source": [
    "X_train.shape"
   ]
  },
  {
   "cell_type": "code",
   "execution_count": 105,
   "metadata": {},
   "outputs": [
    {
     "data": {
      "text/plain": [
       "(58, 1)"
      ]
     },
     "execution_count": 105,
     "metadata": {},
     "output_type": "execute_result"
    }
   ],
   "source": [
    "Y_train.shape"
   ]
  },
  {
   "cell_type": "markdown",
   "metadata": {},
   "source": [
    "#### Test data shape - 11 compounds, each with 7 parameters and correspinding permeability"
   ]
  },
  {
   "cell_type": "code",
   "execution_count": 106,
   "metadata": {},
   "outputs": [
    {
     "data": {
      "text/plain": [
       "(11, 7)"
      ]
     },
     "execution_count": 106,
     "metadata": {},
     "output_type": "execute_result"
    }
   ],
   "source": [
    "X_test.shape"
   ]
  },
  {
   "cell_type": "code",
   "execution_count": 107,
   "metadata": {},
   "outputs": [
    {
     "data": {
      "text/plain": [
       "(7, 7)"
      ]
     },
     "execution_count": 107,
     "metadata": {},
     "output_type": "execute_result"
    }
   ],
   "source": [
    "cnsTest.shape"
   ]
  },
  {
   "cell_type": "code",
   "execution_count": 108,
   "metadata": {},
   "outputs": [
    {
     "data": {
      "text/plain": [
       "(18, 7)"
      ]
     },
     "execution_count": 108,
     "metadata": {},
     "output_type": "execute_result"
    }
   ],
   "source": [
    "X_test = np.concatenate((X_test, cnsTest))\n",
    "X_test.shape"
   ]
  },
  {
   "cell_type": "code",
   "execution_count": 109,
   "metadata": {},
   "outputs": [
    {
     "data": {
      "text/plain": [
       "(11, 1)"
      ]
     },
     "execution_count": 109,
     "metadata": {},
     "output_type": "execute_result"
    }
   ],
   "source": [
    "Y_test.shape"
   ]
  },
  {
   "cell_type": "code",
   "execution_count": null,
   "metadata": {},
   "outputs": [],
   "source": []
  },
  {
   "cell_type": "markdown",
   "metadata": {},
   "source": [
    "## 5. SVM model for regression to predict permeability\n",
    "### SVR class from sci-kit learn is used to create the model\n",
    "#### Model parameters - rbf kernel (function) for regression, epsilon = 0.1 (no losses for prediction within this range), gamma specifies kernel coefficient"
   ]
  },
  {
   "cell_type": "code",
   "execution_count": 110,
   "metadata": {},
   "outputs": [],
   "source": [
    "from sklearn.svm import SVR"
   ]
  },
  {
   "cell_type": "code",
   "execution_count": 111,
   "metadata": {},
   "outputs": [
    {
     "data": {
      "text/plain": [
       "SVR(C=10, cache_size=200, coef0=0.0, degree=3, epsilon=0.1, gamma=0.1,\n",
       "    kernel='rbf', max_iter=-1, shrinking=True, tol=0.001, verbose=False)"
      ]
     },
     "execution_count": 111,
     "metadata": {},
     "output_type": "execute_result"
    }
   ],
   "source": [
    "regressor = SVR( kernel='rbf', C=10, gamma=0.1, epsilon=.1)\n",
    "regressor.fit(X_train, Y_train.ravel())"
   ]
  },
  {
   "cell_type": "markdown",
   "metadata": {},
   "source": [
    "#### Predicting the permeability for training set"
   ]
  },
  {
   "cell_type": "code",
   "execution_count": 112,
   "metadata": {},
   "outputs": [],
   "source": [
    "Y_pred = regressor.predict(X_train)"
   ]
  },
  {
   "cell_type": "code",
   "execution_count": 113,
   "metadata": {},
   "outputs": [
    {
     "data": {
      "text/plain": [
       "array([ 0.06403484, -0.47634396,  0.77868371, -0.437641  , -0.44937055,\n",
       "       -0.71517776, -0.74456564,  0.13114506, -0.0262682 , -0.72674875,\n",
       "       -0.94567897,  1.03843148, -0.78001866, -0.91086887, -0.92369682,\n",
       "        0.9842919 , -0.49480594, -0.7696756 , -0.38515608, -0.75181662,\n",
       "        0.8952558 , -0.42413887, -0.72892662, -0.90317306,  2.12039066,\n",
       "       -0.71825241,  0.55235719, -0.50045268,  0.43594531,  1.22585029,\n",
       "       -0.757975  , -0.74156667,  0.83560054, -0.60844059,  0.46946307,\n",
       "        0.59960546, -0.87497869, -0.34825635, -0.18202787,  1.94184293,\n",
       "       -0.56673985,  0.62302402,  1.20847296, -0.36058591, -0.48711674,\n",
       "       -0.97094215, -0.81200157, -0.55705256, -0.53581398, -0.18202787,\n",
       "       -0.81917152, -0.72855997,  1.98764706, -0.57505141,  2.18873076,\n",
       "       -0.70135442,  1.42814192, -0.7012795 ])"
      ]
     },
     "execution_count": 113,
     "metadata": {},
     "output_type": "execute_result"
    }
   ],
   "source": [
    "Y_pred"
   ]
  },
  {
   "cell_type": "markdown",
   "metadata": {},
   "source": [
    "#### Score of predition on training set"
   ]
  },
  {
   "cell_type": "code",
   "execution_count": 114,
   "metadata": {},
   "outputs": [
    {
     "data": {
      "text/plain": [
       "0.857889522633603"
      ]
     },
     "execution_count": 114,
     "metadata": {},
     "output_type": "execute_result"
    }
   ],
   "source": [
    "regressor.score(X_train, Y_train)"
   ]
  },
  {
   "cell_type": "markdown",
   "metadata": {},
   "source": [
    "#### Score of prediction on test set"
   ]
  },
  {
   "cell_type": "code",
   "execution_count": 115,
   "metadata": {},
   "outputs": [],
   "source": [
    "#regressor.score(X_test, Y_test)"
   ]
  },
  {
   "cell_type": "markdown",
   "metadata": {},
   "source": [
    "## 6. Plotting the results\n",
    "### Actual permeability plotted against predicted permeability for training and test data"
   ]
  },
  {
   "cell_type": "code",
   "execution_count": 116,
   "metadata": {},
   "outputs": [],
   "source": [
    "import seaborn as sns\n",
    "sns.set_style(\"whitegrid\") "
   ]
  },
  {
   "cell_type": "markdown",
   "metadata": {},
   "source": [
    "#### Plot of actual permeability against predicted permeability for training set\n",
    "#### Closeness to lines indicate higher accuracy"
   ]
  },
  {
   "cell_type": "code",
   "execution_count": 164,
   "metadata": {},
   "outputs": [
    {
     "data": {
      "image/png": "[encoded data removed]",
      "text/plain": [
       "<Figure size 432x288 with 1 Axes>"
      ]
     },
     "metadata": {},
     "output_type": "display_data"
    }
   ],
   "source": [
    "plt.scatter(Y_train, Y_pred, )\n",
    "plt.xlabel('True Values [perm]')\n",
    "plt.ylabel('Predictions [perm]')\n",
    "plt.axis('equal')\n",
    "plt.axis('square')\n",
    "plt.xlim([-3,plt.xlim()[1]])\n",
    "plt.ylim([-3,plt.ylim()[1]])\n",
    "_ = plt.plot([-3, 3], [-3, 3], c='black')"
   ]
  },
  {
   "cell_type": "code",
   "execution_count": null,
   "metadata": {},
   "outputs": [],
   "source": []
  },
  {
   "cell_type": "code",
   "execution_count": 118,
   "metadata": {},
   "outputs": [],
   "source": [
    "# import chart_studio.plotly as py\n",
    "# import plotly.graph_objs as go"
   ]
  },
  {
   "cell_type": "code",
   "execution_count": null,
   "metadata": {},
   "outputs": [],
   "source": []
  },
  {
   "cell_type": "markdown",
   "metadata": {},
   "source": [
    "#### Plot of actual permeability against predicted permeability for test set\n",
    "#### Closeness to lines indicate higher accuracy"
   ]
  },
  {
   "cell_type": "code",
   "execution_count": 119,
   "metadata": {},
   "outputs": [
    {
     "data": {
      "image/png": "[encoded data removed]",
      "text/plain": [
       "<Figure size 432x288 with 1 Axes>"
      ]
     },
     "metadata": {},
     "output_type": "display_data"
    }
   ],
   "source": [
    "test_predictions = regressor.predict(X_test)\n",
    "plt.scatter(Y_test, test_predictions[:11])\n",
    "plt.xlabel('True Values [perm]')\n",
    "plt.ylabel('Predictions [perm]')\n",
    "plt.axis('equal')\n",
    "plt.axis('square')\n",
    "plt.xlim([-3,plt.xlim()[1]])\n",
    "plt.ylim([-3,plt.ylim()[1]])\n",
    "_ = plt.plot([-3, 3], [-3, 3], c='black')"
   ]
  },
  {
   "cell_type": "code",
   "execution_count": 120,
   "metadata": {},
   "outputs": [
    {
     "data": {
      "text/html": [
       "<div>\n",
       "<style scoped>\n",
       "    .dataframe tbody tr th:only-of-type {\n",
       "        vertical-align: middle;\n",
       "    }\n",
       "\n",
       "    .dataframe tbody tr th {\n",
       "        vertical-align: top;\n",
       "    }\n",
       "\n",
       "    .dataframe thead th {\n",
       "        text-align: right;\n",
       "    }\n",
       "</style>\n",
       "<table border=\"1\" class=\"dataframe\">\n",
       "  <thead>\n",
       "    <tr style=\"text-align: right;\">\n",
       "      <th></th>\n",
       "      <th>MW</th>\n",
       "      <th>MV</th>\n",
       "      <th>PSA</th>\n",
       "      <th>HBD</th>\n",
       "      <th>HBA</th>\n",
       "      <th>HBtot</th>\n",
       "      <th>logP</th>\n",
       "      <th>perm</th>\n",
       "    </tr>\n",
       "  </thead>\n",
       "  <tbody>\n",
       "    <tr>\n",
       "      <th>0</th>\n",
       "      <td>-0.221877</td>\n",
       "      <td>-0.557155</td>\n",
       "      <td>0.201706</td>\n",
       "      <td>-0.157329</td>\n",
       "      <td>-0.192657</td>\n",
       "      <td>-0.237474</td>\n",
       "      <td>-0.069358</td>\n",
       "      <td>-0.081584</td>\n",
       "    </tr>\n",
       "    <tr>\n",
       "      <th>1</th>\n",
       "      <td>0.464107</td>\n",
       "      <td>0.704640</td>\n",
       "      <td>-0.662869</td>\n",
       "      <td>-0.157329</td>\n",
       "      <td>-0.796898</td>\n",
       "      <td>-0.749527</td>\n",
       "      <td>-0.193986</td>\n",
       "      <td>-0.475150</td>\n",
       "    </tr>\n",
       "    <tr>\n",
       "      <th>2</th>\n",
       "      <td>0.340559</td>\n",
       "      <td>1.627256</td>\n",
       "      <td>-0.620326</td>\n",
       "      <td>-0.157329</td>\n",
       "      <td>-0.796898</td>\n",
       "      <td>-0.749527</td>\n",
       "      <td>0.836273</td>\n",
       "      <td>1.796796</td>\n",
       "    </tr>\n",
       "    <tr>\n",
       "      <th>3</th>\n",
       "      <td>1.119070</td>\n",
       "      <td>1.131013</td>\n",
       "      <td>-0.366901</td>\n",
       "      <td>-0.157329</td>\n",
       "      <td>0.411585</td>\n",
       "      <td>0.274579</td>\n",
       "      <td>0.570400</td>\n",
       "      <td>-0.730073</td>\n",
       "    </tr>\n",
       "    <tr>\n",
       "      <th>4</th>\n",
       "      <td>0.499558</td>\n",
       "      <td>1.062462</td>\n",
       "      <td>0.034738</td>\n",
       "      <td>-0.157329</td>\n",
       "      <td>1.015826</td>\n",
       "      <td>0.786632</td>\n",
       "      <td>-1.348874</td>\n",
       "      <td>-0.349925</td>\n",
       "    </tr>\n",
       "  </tbody>\n",
       "</table>\n",
       "</div>"
      ],
      "text/plain": [
       "         MW        MV       PSA       HBD       HBA     HBtot      logP  \\\n",
       "0 -0.221877 -0.557155  0.201706 -0.157329 -0.192657 -0.237474 -0.069358   \n",
       "1  0.464107  0.704640 -0.662869 -0.157329 -0.796898 -0.749527 -0.193986   \n",
       "2  0.340559  1.627256 -0.620326 -0.157329 -0.796898 -0.749527  0.836273   \n",
       "3  1.119070  1.131013 -0.366901 -0.157329  0.411585  0.274579  0.570400   \n",
       "4  0.499558  1.062462  0.034738 -0.157329  1.015826  0.786632 -1.348874   \n",
       "\n",
       "       perm  \n",
       "0 -0.081584  \n",
       "1 -0.475150  \n",
       "2  1.796796  \n",
       "3 -0.730073  \n",
       "4 -0.349925  "
      ]
     },
     "execution_count": 120,
     "metadata": {},
     "output_type": "execute_result"
    }
   ],
   "source": [
    "train = np.concatenate((X_train, Y_train), axis=1)\n",
    "test = np.concatenate((X_test[:11], Y_test), axis=1)\n",
    "dataArr = np.concatenate((train, test))\n",
    "dfScaled = pd.DataFrame(dataArr)\n",
    "dfScaled.head()"
   ]
  },
  {
   "cell_type": "code",
   "execution_count": 132,
   "metadata": {},
   "outputs": [
    {
     "data": {
      "text/html": [
       "<div>\n",
       "<style scoped>\n",
       "    .dataframe tbody tr th:only-of-type {\n",
       "        vertical-align: middle;\n",
       "    }\n",
       "\n",
       "    .dataframe tbody tr th {\n",
       "        vertical-align: top;\n",
       "    }\n",
       "\n",
       "    .dataframe thead th {\n",
       "        text-align: right;\n",
       "    }\n",
       "</style>\n",
       "<table border=\"1\" class=\"dataframe\">\n",
       "  <thead>\n",
       "    <tr style=\"text-align: right;\">\n",
       "      <th></th>\n",
       "      <th>MW</th>\n",
       "      <th>MV</th>\n",
       "      <th>PSA</th>\n",
       "      <th>HBD</th>\n",
       "      <th>HBA</th>\n",
       "      <th>HBtot</th>\n",
       "      <th>logP</th>\n",
       "      <th>perm</th>\n",
       "    </tr>\n",
       "  </thead>\n",
       "  <tbody>\n",
       "    <tr>\n",
       "      <th>0</th>\n",
       "      <td>275.70</td>\n",
       "      <td>172.00</td>\n",
       "      <td>122.60</td>\n",
       "      <td>2.0</td>\n",
       "      <td>5.0</td>\n",
       "      <td>7.0</td>\n",
       "      <td>1.60</td>\n",
       "      <td>0.000018</td>\n",
       "    </tr>\n",
       "    <tr>\n",
       "      <th>1</th>\n",
       "      <td>314.40</td>\n",
       "      <td>239.00</td>\n",
       "      <td>47.00</td>\n",
       "      <td>2.0</td>\n",
       "      <td>4.0</td>\n",
       "      <td>6.0</td>\n",
       "      <td>1.45</td>\n",
       "      <td>0.000009</td>\n",
       "    </tr>\n",
       "    <tr>\n",
       "      <th>2</th>\n",
       "      <td>307.43</td>\n",
       "      <td>287.99</td>\n",
       "      <td>50.72</td>\n",
       "      <td>2.0</td>\n",
       "      <td>4.0</td>\n",
       "      <td>6.0</td>\n",
       "      <td>2.69</td>\n",
       "      <td>0.000060</td>\n",
       "    </tr>\n",
       "    <tr>\n",
       "      <th>3</th>\n",
       "      <td>351.35</td>\n",
       "      <td>261.64</td>\n",
       "      <td>72.88</td>\n",
       "      <td>2.0</td>\n",
       "      <td>6.0</td>\n",
       "      <td>8.0</td>\n",
       "      <td>2.37</td>\n",
       "      <td>0.000004</td>\n",
       "    </tr>\n",
       "    <tr>\n",
       "      <th>4</th>\n",
       "      <td>316.40</td>\n",
       "      <td>258.00</td>\n",
       "      <td>108.00</td>\n",
       "      <td>2.0</td>\n",
       "      <td>7.0</td>\n",
       "      <td>9.0</td>\n",
       "      <td>0.06</td>\n",
       "      <td>0.000012</td>\n",
       "    </tr>\n",
       "  </tbody>\n",
       "</table>\n",
       "</div>"
      ],
      "text/plain": [
       "       MW      MV     PSA  HBD  HBA  HBtot  logP      perm\n",
       "0  275.70  172.00  122.60  2.0  5.0    7.0  1.60  0.000018\n",
       "1  314.40  239.00   47.00  2.0  4.0    6.0  1.45  0.000009\n",
       "2  307.43  287.99   50.72  2.0  4.0    6.0  2.69  0.000060\n",
       "3  351.35  261.64   72.88  2.0  6.0    8.0  2.37  0.000004\n",
       "4  316.40  258.00  108.00  2.0  7.0    9.0  0.06  0.000012"
      ]
     },
     "execution_count": 132,
     "metadata": {},
     "output_type": "execute_result"
    }
   ],
   "source": [
    "dfUnscaled = pd.DataFrame(scaler.inverse_transform(dfScaled)).rename(columns={0: \"MW\", 1: \"MV\", 2: \"PSA\", 3:\"HBD\", 4:\"HBA\", 5:\"HBtot\", 6:\"logP\", 7:\"perm\"})\n",
    "dfUnscaled.head()"
   ]
  },
  {
   "cell_type": "code",
   "execution_count": 136,
   "metadata": {},
   "outputs": [
    {
     "data": {
      "text/plain": [
       "(58, 1)"
      ]
     },
     "execution_count": 136,
     "metadata": {},
     "output_type": "execute_result"
    }
   ],
   "source": [
    "Y_pred = Y_pred.reshape(58,-1)\n",
    "Y_pred.shape"
   ]
  },
  {
   "cell_type": "code",
   "execution_count": 144,
   "metadata": {},
   "outputs": [
    {
     "data": {
      "text/plain": [
       "(18,)"
      ]
     },
     "execution_count": 144,
     "metadata": {},
     "output_type": "execute_result"
    }
   ],
   "source": [
    "test_pred = test_predictions.reshape(18,-1)"
   ]
  },
  {
   "cell_type": "code",
   "execution_count": 145,
   "metadata": {},
   "outputs": [],
   "source": [
    "trainPr = np.concatenate((X_train, Y_pred), axis=1)\n",
    "testPr = np.concatenate((X_test[:11], test_pred[:11]), axis=1)\n",
    "dataArrPr = np.concatenate((trainPr, testPr))\n",
    "dfScaledPr = pd.DataFrame(dataArrPr)"
   ]
  },
  {
   "cell_type": "code",
   "execution_count": 146,
   "metadata": {},
   "outputs": [
    {
     "data": {
      "text/html": [
       "<div>\n",
       "<style scoped>\n",
       "    .dataframe tbody tr th:only-of-type {\n",
       "        vertical-align: middle;\n",
       "    }\n",
       "\n",
       "    .dataframe tbody tr th {\n",
       "        vertical-align: top;\n",
       "    }\n",
       "\n",
       "    .dataframe thead th {\n",
       "        text-align: right;\n",
       "    }\n",
       "</style>\n",
       "<table border=\"1\" class=\"dataframe\">\n",
       "  <thead>\n",
       "    <tr style=\"text-align: right;\">\n",
       "      <th></th>\n",
       "      <th>MW</th>\n",
       "      <th>MV</th>\n",
       "      <th>PSA</th>\n",
       "      <th>HBD</th>\n",
       "      <th>HBA</th>\n",
       "      <th>HBtot</th>\n",
       "      <th>logP</th>\n",
       "      <th>perm</th>\n",
       "    </tr>\n",
       "  </thead>\n",
       "  <tbody>\n",
       "    <tr>\n",
       "      <th>0</th>\n",
       "      <td>275.70</td>\n",
       "      <td>172.00</td>\n",
       "      <td>122.60</td>\n",
       "      <td>2.0</td>\n",
       "      <td>5.0</td>\n",
       "      <td>7.0</td>\n",
       "      <td>1.60</td>\n",
       "      <td>0.000021</td>\n",
       "    </tr>\n",
       "    <tr>\n",
       "      <th>1</th>\n",
       "      <td>314.40</td>\n",
       "      <td>239.00</td>\n",
       "      <td>47.00</td>\n",
       "      <td>2.0</td>\n",
       "      <td>4.0</td>\n",
       "      <td>6.0</td>\n",
       "      <td>1.45</td>\n",
       "      <td>0.000009</td>\n",
       "    </tr>\n",
       "    <tr>\n",
       "      <th>2</th>\n",
       "      <td>307.43</td>\n",
       "      <td>287.99</td>\n",
       "      <td>50.72</td>\n",
       "      <td>2.0</td>\n",
       "      <td>4.0</td>\n",
       "      <td>6.0</td>\n",
       "      <td>2.69</td>\n",
       "      <td>0.000037</td>\n",
       "    </tr>\n",
       "    <tr>\n",
       "      <th>3</th>\n",
       "      <td>351.35</td>\n",
       "      <td>261.64</td>\n",
       "      <td>72.88</td>\n",
       "      <td>2.0</td>\n",
       "      <td>6.0</td>\n",
       "      <td>8.0</td>\n",
       "      <td>2.37</td>\n",
       "      <td>0.000010</td>\n",
       "    </tr>\n",
       "    <tr>\n",
       "      <th>4</th>\n",
       "      <td>316.40</td>\n",
       "      <td>258.00</td>\n",
       "      <td>108.00</td>\n",
       "      <td>2.0</td>\n",
       "      <td>7.0</td>\n",
       "      <td>9.0</td>\n",
       "      <td>0.06</td>\n",
       "      <td>0.000010</td>\n",
       "    </tr>\n",
       "  </tbody>\n",
       "</table>\n",
       "</div>"
      ],
      "text/plain": [
       "       MW      MV     PSA  HBD  HBA  HBtot  logP      perm\n",
       "0  275.70  172.00  122.60  2.0  5.0    7.0  1.60  0.000021\n",
       "1  314.40  239.00   47.00  2.0  4.0    6.0  1.45  0.000009\n",
       "2  307.43  287.99   50.72  2.0  4.0    6.0  2.69  0.000037\n",
       "3  351.35  261.64   72.88  2.0  6.0    8.0  2.37  0.000010\n",
       "4  316.40  258.00  108.00  2.0  7.0    9.0  0.06  0.000010"
      ]
     },
     "execution_count": 146,
     "metadata": {},
     "output_type": "execute_result"
    }
   ],
   "source": [
    "dfUnscaledPr = pd.DataFrame(scaler.inverse_transform(dfScaledPr)).rename(columns={0: \"MW\", 1: \"MV\", 2: \"PSA\", 3:\"HBD\", 4:\"HBA\", 5:\"HBtot\", 6:\"logP\", 7:\"perm\"})\n",
    "dfUnscaledPr.head()"
   ]
  },
  {
   "cell_type": "code",
   "execution_count": 213,
   "metadata": {},
   "outputs": [
    {
     "data": {
      "image/png": "[encoded data removed]",
      "text/plain": [
       "<Figure size 432x288 with 1 Axes>"
      ]
     },
     "metadata": {},
     "output_type": "display_data"
    }
   ],
   "source": [
    "fig,ax = plt.subplots()\n",
    "sns.scatterplot(dfUnscaled['perm'][:-11], dfUnscaledPr['perm'][:-11], cmap=\"viridis\" )\n",
    "plt.xlabel('Actual Permeability (cm/s)')\n",
    "plt.ylabel('Predicted Permeability (cm/s)')\n",
    "# plt.axis('equal')\n",
    "# plt.axis('square')\n",
    "plt.xlim(-0.1e-04, 9.0e-05)\n",
    "plt.ylim(-0.1e-04, 9.0e-05)\n",
    "ax.yaxis.set_major_formatter(mtick.FormatStrFormatter('%.2e'))\n",
    "ax.xaxis.set_major_formatter(mtick.FormatStrFormatter('%.2e'))\n",
    "ax.xaxis.set_ticks(np.arange(0.0e-04, 9.0e-05, 1.5e-05))\n",
    "ax.yaxis.set_ticks(np.arange(0.0e-04, 9.0e-05, 1.5e-05))\n",
    "_ = sns.lineplot([-3, 3], [-3, 3], color=\"blue\", alpha=0.8)\n",
    "plt.savefig(\"Training-set-prediction.png\", dpi=1400)"
   ]
  },
  {
   "cell_type": "code",
   "execution_count": 214,
   "metadata": {},
   "outputs": [
    {
     "data": {
      "image/png": "[encoded data removed]",
      "text/plain": [
       "<Figure size 432x288 with 1 Axes>"
      ]
     },
     "metadata": {},
     "output_type": "display_data"
    }
   ],
   "source": [
    "fig,ax = plt.subplots()\n",
    "sns.scatterplot(dfUnscaled['perm'][-11:], dfUnscaledPr['perm'][-11:], color=\"red\" )\n",
    "sns.scatterplot(dfUnscaled['perm'][-11:], dfUnscaledPr['perm'][-11:], color=\"red\" )\n",
    "plt.xlabel('Actual Permeability (cm/s)')\n",
    "plt.ylabel('Predicted Permeability (cm/s)')\n",
    "#plt.axis('equal')\n",
    "#plt.axis('square')\n",
    "plt.xlim(-0.1e-04, 9.0e-05)\n",
    "plt.ylim(-0.1e-04, 9.0e-05)\n",
    "ax.yaxis.set_major_formatter(mtick.FormatStrFormatter('%.2e'))\n",
    "ax.xaxis.set_major_formatter(mtick.FormatStrFormatter('%.2e'))\n",
    "ax.xaxis.set_ticks(np.arange(0.0e-04, 9.0e-05, 1.5e-05))\n",
    "ax.yaxis.set_ticks(np.arange(0.0e-04, 9.0e-05, 1.5e-05))\n",
    "_ = sns.lineplot([-3, 3], [-3, 3], color=\"blue\", alpha=0.8)\n",
    "plt.savefig(\"Test-set-prediction.png\", dpi=1400)"
   ]
  },
  {
   "cell_type": "code",
   "execution_count": 147,
   "metadata": {},
   "outputs": [
    {
     "data": {
      "text/plain": [
       "array([-0.54055833,  0.59074943,  0.41663658,  1.10947754,  1.97340559,\n",
       "       -0.81024577, -0.50690334])"
      ]
     },
     "execution_count": 147,
     "metadata": {},
     "output_type": "execute_result"
    }
   ],
   "source": [
    "test_predictions[11:]"
   ]
  },
  {
   "cell_type": "code",
   "execution_count": 123,
   "metadata": {},
   "outputs": [],
   "source": [
    "cnsDf['Pred_perm'] = test_predictions[11:]"
   ]
  },
  {
   "cell_type": "code",
   "execution_count": null,
   "metadata": {},
   "outputs": [],
   "source": []
  }
 ],
 "metadata": {
  "kernelspec": {
   "display_name": "Python 3",
   "language": "python",
   "name": "python3"
  },
  "language_info": {
   "codemirror_mode": {
    "name": "ipython",
    "version": 3
   },
   "file_extension": ".py",
   "mimetype": "text/x-python",
   "name": "python",
   "nbconvert_exporter": "python",
   "pygments_lexer": "ipython3",
   "version": "3.7.3"
  }
 },
 "nbformat": 4,
 "nbformat_minor": 2
}
